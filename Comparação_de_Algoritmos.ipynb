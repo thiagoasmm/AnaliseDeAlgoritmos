{
  "nbformat": 4,
  "nbformat_minor": 0,
  "metadata": {
    "colab": {
      "name": "Comparação de Algoritmos.ipynb",
      "provenance": [],
      "collapsed_sections": [
        "PnyV5FmPvu0e",
        "iwZh_FvOeeDC",
        "XWqyKvy759gp",
        "W7zR5tLef5lK",
        "zYs80HSftDd7"
      ],
      "toc_visible": true
    },
    "kernelspec": {
      "name": "python3",
      "display_name": "Python 3"
    },
    "language_info": {
      "name": "python"
    }
  },
  "cells": [
    {
      "cell_type": "markdown",
      "metadata": {
        "id": "0cKHh79T92cl"
      },
      "source": [
        ""
      ]
    },
    {
      "cell_type": "markdown",
      "metadata": {
        "id": "9REk78CXnwpP"
      },
      "source": [
        "# **Importação**"
      ]
    },
    {
      "cell_type": "code",
      "metadata": {
        "id": "4dqKjiuuw1oP",
        "colab": {
          "base_uri": "https://localhost:8080/"
        },
        "outputId": "548231cf-f10d-4a25-e0eb-8b14b88feb20"
      },
      "source": [
        "pip install plotly==4.1.0"
      ],
      "execution_count": null,
      "outputs": [
        {
          "output_type": "stream",
          "text": [
            "Collecting plotly==4.1.0\n",
            "\u001b[?25l  Downloading https://files.pythonhosted.org/packages/63/2b/4ca10995bfbdefd65c4238f9a2d3fde33705d18dd50914dd13302ec1daf1/plotly-4.1.0-py2.py3-none-any.whl (7.1MB)\n",
            "\u001b[K     |████████████████████████████████| 7.1MB 4.0MB/s \n",
            "\u001b[?25hRequirement already satisfied: retrying>=1.3.3 in /usr/local/lib/python3.7/dist-packages (from plotly==4.1.0) (1.3.3)\n",
            "Requirement already satisfied: six in /usr/local/lib/python3.7/dist-packages (from plotly==4.1.0) (1.15.0)\n",
            "\u001b[31mERROR: cufflinks 0.17.3 has requirement plotly>=4.1.1, but you'll have plotly 4.1.0 which is incompatible.\u001b[0m\n",
            "Installing collected packages: plotly\n",
            "  Found existing installation: plotly 4.4.1\n",
            "    Uninstalling plotly-4.4.1:\n",
            "      Successfully uninstalled plotly-4.4.1\n",
            "Successfully installed plotly-4.1.0\n"
          ],
          "name": "stdout"
        }
      ]
    },
    {
      "cell_type": "code",
      "metadata": {
        "id": "yeRXux74xOsy"
      },
      "source": [
        ""
      ],
      "execution_count": null,
      "outputs": []
    },
    {
      "cell_type": "code",
      "metadata": {
        "id": "vyHNnBRLjL-x"
      },
      "source": [
        "import plotly.graph_objects as go\n",
        "from mpl_toolkits.mplot3d import Axes3D\n",
        "from sklearn.preprocessing import StandardScaler\n",
        "from sklearn import preprocessing\n",
        "from sklearn import svm\n",
        "import numpy as np # linear algebra\n",
        "import os # accessing directory structure\n",
        "import pandas as pd # data processing, CSV file I/O (e.g. pd.read_csv)\n"
      ],
      "execution_count": null,
      "outputs": []
    },
    {
      "cell_type": "code",
      "metadata": {
        "colab": {
          "base_uri": "https://localhost:8080/"
        },
        "id": "HjXvODS5kLYg",
        "outputId": "33f3a5b0-f363-4c2f-b056-3e0fb28ddfbe"
      },
      "source": [
        "print(os.listdir('/content'))\n"
      ],
      "execution_count": null,
      "outputs": [
        {
          "output_type": "stream",
          "text": [
            "['.config', 'jvc.csv', 'sample_data']\n"
          ],
          "name": "stdout"
        }
      ]
    },
    {
      "cell_type": "markdown",
      "metadata": {
        "id": "DTUPn81Qn49n"
      },
      "source": [
        "# **Tratamento de dados**"
      ]
    },
    {
      "cell_type": "code",
      "metadata": {
        "colab": {
          "base_uri": "https://localhost:8080/",
          "height": 315
        },
        "id": "BPyF5hGfkVn3",
        "outputId": "e851b0a1-268c-4787-fd92-a779d9958f90"
      },
      "source": [
        "nRowsRead = None=10 # specify 'None' if want to read whole file\n",
        "# jvc.csv has 17841 rows in reality, but we are only loading/previewing the first 1000 rows\n",
        "df = pd.read_csv('/content/jvc.csv', delimiter=',', nrows = nRowsRead)\n",
        "df.dataframeName = 'jvc.csv'\n",
        "nRow, nCol = df.shape\n",
        "print(f'There are {nRow} rows and {nCol} columns')\n",
        "df.head()"
      ],
      "execution_count": null,
      "outputs": [
        {
          "output_type": "stream",
          "text": [
            "There are 17841 rows and 12 columns\n"
          ],
          "name": "stdout"
        },
        {
          "output_type": "execute_result",
          "data": {
            "text/html": [
              "<div>\n",
              "<style scoped>\n",
              "    .dataframe tbody tr th:only-of-type {\n",
              "        vertical-align: middle;\n",
              "    }\n",
              "\n",
              "    .dataframe tbody tr th {\n",
              "        vertical-align: top;\n",
              "    }\n",
              "\n",
              "    .dataframe thead th {\n",
              "        text-align: right;\n",
              "    }\n",
              "</style>\n",
              "<table border=\"1\" class=\"dataframe\">\n",
              "  <thead>\n",
              "    <tr style=\"text-align: right;\">\n",
              "      <th></th>\n",
              "      <th>Unnamed: 0</th>\n",
              "      <th>game_fr</th>\n",
              "      <th>game_en</th>\n",
              "      <th>platform</th>\n",
              "      <th>website_rating</th>\n",
              "      <th>public_rating</th>\n",
              "      <th>publishor/developer</th>\n",
              "      <th>release</th>\n",
              "      <th>type</th>\n",
              "      <th>classification</th>\n",
              "      <th>url</th>\n",
              "      <th>description</th>\n",
              "    </tr>\n",
              "  </thead>\n",
              "  <tbody>\n",
              "    <tr>\n",
              "      <th>0</th>\n",
              "      <td>1</td>\n",
              "      <td>.hack//G.U. Last Recode</td>\n",
              "      <td>.hack//G.U. Last Recode</td>\n",
              "      <td>PS4</td>\n",
              "      <td>14/20</td>\n",
              "      <td>--/20</td>\n",
              "      <td>Bandai Namco Entertainment</td>\n",
              "      <td>03 Novembre 2017</td>\n",
              "      <td>RPG</td>\n",
              "      <td>+12 ans</td>\n",
              "      <td>http://www.jeuxvideo.com/jeux/ps4/jeu-674262/</td>\n",
              "      <td>Au contraire d’autres titres, None ,''.hack'' ...</td>\n",
              "    </tr>\n",
              "    <tr>\n",
              "      <th>1</th>\n",
              "      <td>2</td>\n",
              "      <td>.hack//G.U. Vol.1//Rebirth</td>\n",
              "      <td>.hack//G.U. Vol. 1//Rebirth</td>\n",
              "      <td>PS2</td>\n",
              "      <td>15/20</td>\n",
              "      <td>18.2/20</td>\n",
              "      <td>Bandai Namco CyberConnect2</td>\n",
              "      <td>Date de sortie inconnue</td>\n",
              "      <td>RPG</td>\n",
              "      <td>+7 ans</td>\n",
              "      <td>http://www.jeuxvideo.com/jeux/playstation-2-ps...</td>\n",
              "      <td>Avec plus de 20 œuvres de fiction sur de mult...</td>\n",
              "    </tr>\n",
              "    <tr>\n",
              "      <th>2</th>\n",
              "      <td>3</td>\n",
              "      <td>.hack//Infection Part 1</td>\n",
              "      <td>.hack//Infection: Part 1</td>\n",
              "      <td>PS2</td>\n",
              "      <td>15/20</td>\n",
              "      <td>15.1/20</td>\n",
              "      <td>CyberConnect2 Bandai</td>\n",
              "      <td>26 Mars 2004</td>\n",
              "      <td>RPG</td>\n",
              "      <td>+12 ans</td>\n",
              "      <td>http://www.jeuxvideo.com/jeux/playstation-2-ps...</td>\n",
              "      <td>S'appuyant sur la maxime « Mieux vaut tard qu...</td>\n",
              "    </tr>\n",
              "    <tr>\n",
              "      <th>3</th>\n",
              "      <td>4</td>\n",
              "      <td>.hack//Mutation Part 2</td>\n",
              "      <td>.hack//Mutation: Part 2</td>\n",
              "      <td>PS2</td>\n",
              "      <td>14/20</td>\n",
              "      <td>16.4/20</td>\n",
              "      <td>Bandai CyberConnect2</td>\n",
              "      <td>18 Juin 2004</td>\n",
              "      <td>RPG</td>\n",
              "      <td>+12 ans</td>\n",
              "      <td>http://www.jeuxvideo.com/jeux/playstation-2-ps...</td>\n",
              "      <td>Voici enfin le second volet de la quadrilogie...</td>\n",
              "    </tr>\n",
              "    <tr>\n",
              "      <th>4</th>\n",
              "      <td>5</td>\n",
              "      <td>.hack//Outbreak Part 3</td>\n",
              "      <td>.hack//Outbreak: Part 3</td>\n",
              "      <td>PS2</td>\n",
              "      <td>13/20</td>\n",
              "      <td>15.3/20</td>\n",
              "      <td>CyberConnect2 Atari</td>\n",
              "      <td>17 Septembre 2004</td>\n",
              "      <td>RPG</td>\n",
              "      <td>+12 ans</td>\n",
              "      <td>http://www.jeuxvideo.com/jeux/playstation-2-ps...</td>\n",
              "      <td>Comme la maxime «Jamais deux sans trois» ne c...</td>\n",
              "    </tr>\n",
              "  </tbody>\n",
              "</table>\n",
              "</div>"
            ],
            "text/plain": [
              "   Unnamed: 0  ...                                        description\n",
              "0           1  ...  Au contraire d’autres titres, None ,''.hack'' ...\n",
              "1           2  ...   Avec plus de 20 œuvres de fiction sur de mult...\n",
              "2           3  ...   S'appuyant sur la maxime « Mieux vaut tard qu...\n",
              "3           4  ...   Voici enfin le second volet de la quadrilogie...\n",
              "4           5  ...   Comme la maxime «Jamais deux sans trois» ne c...\n",
              "\n",
              "[5 rows x 12 columns]"
            ]
          },
          "metadata": {
            "tags": []
          },
          "execution_count": 3
        }
      ]
    },
    {
      "cell_type": "code",
      "metadata": {
        "id": "XATL7Ua2TTOi"
      },
      "source": [
        "def isnumber(value):\n",
        "    try:\n",
        "         float(value)\n",
        "    except ValueError:\n",
        "         return False\n",
        "    return True"
      ],
      "execution_count": null,
      "outputs": []
    },
    {
      "cell_type": "code",
      "metadata": {
        "id": "IISGSsR46MBE"
      },
      "source": [
        "df1=df[['platform', 'website_rating','type','classification']]\n"
      ],
      "execution_count": null,
      "outputs": []
    },
    {
      "cell_type": "code",
      "metadata": {
        "colab": {
          "base_uri": "https://localhost:8080/",
          "height": 402
        },
        "id": "o_YBKijpprnK",
        "outputId": "9185d04e-e7bc-4502-b2af-c95e8a0dcb0f"
      },
      "source": [
        "df1.head(248)"
      ],
      "execution_count": null,
      "outputs": [
        {
          "output_type": "execute_result",
          "data": {
            "text/html": [
              "<div>\n",
              "<style scoped>\n",
              "    .dataframe tbody tr th:only-of-type {\n",
              "        vertical-align: middle;\n",
              "    }\n",
              "\n",
              "    .dataframe tbody tr th {\n",
              "        vertical-align: top;\n",
              "    }\n",
              "\n",
              "    .dataframe thead th {\n",
              "        text-align: right;\n",
              "    }\n",
              "</style>\n",
              "<table border=\"1\" class=\"dataframe\">\n",
              "  <thead>\n",
              "    <tr style=\"text-align: right;\">\n",
              "      <th></th>\n",
              "      <th>platform</th>\n",
              "      <th>website_rating</th>\n",
              "      <th>type</th>\n",
              "      <th>classification</th>\n",
              "    </tr>\n",
              "  </thead>\n",
              "  <tbody>\n",
              "    <tr>\n",
              "      <th>0</th>\n",
              "      <td>PS4</td>\n",
              "      <td>14/20</td>\n",
              "      <td>RPG</td>\n",
              "      <td>+12 ans</td>\n",
              "    </tr>\n",
              "    <tr>\n",
              "      <th>1</th>\n",
              "      <td>PS2</td>\n",
              "      <td>15/20</td>\n",
              "      <td>RPG</td>\n",
              "      <td>+7 ans</td>\n",
              "    </tr>\n",
              "    <tr>\n",
              "      <th>2</th>\n",
              "      <td>PS2</td>\n",
              "      <td>15/20</td>\n",
              "      <td>RPG</td>\n",
              "      <td>+12 ans</td>\n",
              "    </tr>\n",
              "    <tr>\n",
              "      <th>3</th>\n",
              "      <td>PS2</td>\n",
              "      <td>14/20</td>\n",
              "      <td>RPG</td>\n",
              "      <td>+12 ans</td>\n",
              "    </tr>\n",
              "    <tr>\n",
              "      <th>4</th>\n",
              "      <td>PS2</td>\n",
              "      <td>13/20</td>\n",
              "      <td>RPG</td>\n",
              "      <td>+12 ans</td>\n",
              "    </tr>\n",
              "    <tr>\n",
              "      <th>...</th>\n",
              "      <td>...</td>\n",
              "      <td>...</td>\n",
              "      <td>...</td>\n",
              "      <td>...</td>\n",
              "    </tr>\n",
              "    <tr>\n",
              "      <th>243</th>\n",
              "      <td>PC</td>\n",
              "      <td>3/20</td>\n",
              "      <td>Simulation</td>\n",
              "      <td>+3 ans</td>\n",
              "    </tr>\n",
              "    <tr>\n",
              "      <th>244</th>\n",
              "      <td>DCAST</td>\n",
              "      <td>15/20</td>\n",
              "      <td>Tir Simulation</td>\n",
              "      <td>+3 ans</td>\n",
              "    </tr>\n",
              "    <tr>\n",
              "      <th>245</th>\n",
              "      <td>3DS</td>\n",
              "      <td>11/20</td>\n",
              "      <td>Action RPG</td>\n",
              "      <td>+12 ans</td>\n",
              "    </tr>\n",
              "    <tr>\n",
              "      <th>246</th>\n",
              "      <td>WiiU</td>\n",
              "      <td>16/20</td>\n",
              "      <td>Aventure Réflexion</td>\n",
              "      <td>+3 ans</td>\n",
              "    </tr>\n",
              "    <tr>\n",
              "      <th>247</th>\n",
              "      <td>PS3</td>\n",
              "      <td>18/20</td>\n",
              "      <td>Simulation</td>\n",
              "      <td>Unknown</td>\n",
              "    </tr>\n",
              "  </tbody>\n",
              "</table>\n",
              "<p>248 rows × 4 columns</p>\n",
              "</div>"
            ],
            "text/plain": [
              "    platform website_rating                type classification\n",
              "0        PS4          14/20                 RPG        +12 ans\n",
              "1        PS2          15/20                 RPG         +7 ans\n",
              "2        PS2          15/20                 RPG        +12 ans\n",
              "3        PS2          14/20                 RPG        +12 ans\n",
              "4        PS2          13/20                 RPG        +12 ans\n",
              "..       ...            ...                 ...            ...\n",
              "243       PC           3/20          Simulation         +3 ans\n",
              "244    DCAST          15/20      Tir Simulation         +3 ans\n",
              "245      3DS          11/20          Action RPG        +12 ans\n",
              "246     WiiU          16/20  Aventure Réflexion         +3 ans\n",
              "247      PS3          18/20          Simulation        Unknown\n",
              "\n",
              "[248 rows x 4 columns]"
            ]
          },
          "metadata": {
            "tags": []
          },
          "execution_count": 7
        }
      ]
    },
    {
      "cell_type": "code",
      "metadata": {
        "id": "RXZKL8Ok3SKy"
      },
      "source": [
        "def listar(a):#lista todos os exemplos de atributos\n",
        "  \n",
        "\n",
        "  #print('{}'.format(a))\n",
        "\n",
        "  resp=[]\n",
        "\n",
        "  #plataforma\n",
        "\n",
        "  for item in df[a]:\n",
        "    \n",
        "    if ' ' in item and a!='release':  \n",
        "      item=item.split(' ')#separando por caractere de espaço\n",
        "  \n",
        "      for index in item:  \n",
        "        if index not in resp:\n",
        "          resp.append(index)\n",
        "          \n",
        "      \n",
        "    else:\n",
        "      if item not in resp:\n",
        "       resp.append(item)\n",
        "        \n",
        "\n",
        "      \n",
        "  #print(resp) #lista com todos os elementos\n",
        "  #(indexar(resp))\n",
        "  #return indexar(resp) \n",
        "  return list(resp)\n",
        "\n"
      ],
      "execution_count": null,
      "outputs": []
    },
    {
      "cell_type": "code",
      "metadata": {
        "id": "Wtk8yV2vaaMk"
      },
      "source": [
        "def indexar(lista): #gera um index para cada exemplo de atributo, retornando um objeto do tipo dicionario\n",
        "  \n",
        "  key_list=lista\n",
        "  value_list = range(len(lista))\n",
        "  \n",
        "  lista_indexada = {key_list[i]: value_list[i] for i in range(len(key_list))}\n",
        "  \n",
        "  return lista_indexada\n"
      ],
      "execution_count": null,
      "outputs": []
    },
    {
      "cell_type": "code",
      "metadata": {
        "id": "HfsJf75m1nHJ"
      },
      "source": [
        "def lista_de_indices(lista): #gera uma lista de indices\n",
        "  \n",
        "  lista_indices = range(len(lista))\n",
        "\n",
        "  return list(lista_indices)\n"
      ],
      "execution_count": null,
      "outputs": []
    },
    {
      "cell_type": "code",
      "metadata": {
        "id": "92bU4UDn8UJv"
      },
      "source": [
        "def release_Tratament(a): \n",
        "\n",
        "\n",
        "  resp=[]\n",
        "  \n",
        "\n",
        "  for item in df[a]:\n",
        "    \n",
        "    if ' ' in item and item!='Date de sortie inconnue'and item!='estjeu':\n",
        "      item=item.lower()  \n",
        "      item=item.split(' ')#separando por caractere de espaço\n",
        "      item=data_translate(item)\n",
        "\n",
        "      resp.append(item)     \n",
        "\n",
        "    else:\n",
        "      resp.append(item)\n",
        "        \n",
        "  return list(resp)\n",
        "  \n"
      ],
      "execution_count": null,
      "outputs": []
    },
    {
      "cell_type": "code",
      "metadata": {
        "id": "F1thC_vt9A56"
      },
      "source": [
        "def data_translate(a):#pegar o meses e converter para numero, a posição a[1], equivale ao nome do mes\n",
        "  #print(len(a))\n",
        "  if len(a)==2:\n",
        "    cont=0\n",
        "  else:\n",
        "    cont=1\n",
        "  #cont=len(a)-2  #algumas datas possuem 3 elementos, dia/mes/ano, porem outras possuem apenas mes e ano, \n",
        "                 #para evitar erros, a converção considera sempre o elemento do meio ou esquerda, dessa forma,\n",
        "                 #é só pegar sempre o penultimo elemento que sempre será o mes\n",
        "\n",
        "  if(a[cont]=='janvier'):a[cont]='01'\n",
        "  if(a[cont]=='février'):a[cont]='02'\n",
        "  if(a[cont]=='mars'):a[cont]='03'\n",
        "  if(a[cont]=='avril'):a[cont]='04'\n",
        "  if(a[cont]=='mai'):a[cont]='05'\n",
        "  if(a[cont]=='juin'):a[cont]='06'\n",
        "  if(a[cont]=='juillet'):a[cont]='07' \n",
        "  if(a[cont]=='août'):a[cont]='08'\n",
        "  if(a[cont]=='septembre'):a[cont]='09'\n",
        "  if(a[cont]=='octobre'):a[cont]='10'\n",
        "  if(a[cont]=='novembre'):a[cont]='11'\n",
        "  if(a[cont]=='décembre'):a[cont]='12'\n",
        "  #if(a=='Date de sortie inconnue'):a='00'# data não existe\n",
        "\n",
        "  return a[cont+1]+ a[cont]\n",
        " \n",
        "\n",
        "\n"
      ],
      "execution_count": null,
      "outputs": []
    },
    {
      "cell_type": "code",
      "metadata": {
        "id": "nE-nDBBRqvuZ"
      },
      "source": [
        "def website_rating_tratament():\n",
        "  resp=[]\n",
        "  for item in df1['website_rating']:\n",
        "    item=item.split(sep='/')\n",
        "\n",
        "    resp.append(float(item[0])/float(item[1]))\n",
        "    \n",
        "  return list(resp)\n",
        "\n",
        "\n"
      ],
      "execution_count": null,
      "outputs": []
    },
    {
      "cell_type": "code",
      "metadata": {
        "id": "4XOs6AsqaVbX"
      },
      "source": [
        "def publishor_Tratament(a): \n",
        "  resp=[]\n",
        "  for item in df[a]:\n",
        "    resp.append(item)     \n",
        "        \n",
        "  return resp"
      ],
      "execution_count": null,
      "outputs": []
    },
    {
      "cell_type": "code",
      "metadata": {
        "id": "TMIYCt0JkkAy"
      },
      "source": [
        "def classification_Tratament(a): \n",
        "\n",
        "  resp=[]\n",
        "\n",
        "\n",
        "  for item in df[a]:\n",
        "    item= item.replace('+','')\n",
        "    item=item.replace(' ans','')\n",
        "    item=item.replace('Unknown','00')\n",
        "    \n",
        "    resp.append(item)\n",
        "            \n",
        "  \n",
        "  return resp\n",
        "\n",
        "\n"
      ],
      "execution_count": null,
      "outputs": []
    },
    {
      "cell_type": "code",
      "metadata": {
        "id": "9RIyqFMTWmGo"
      },
      "source": [
        "def typely():\n",
        "  typee=['RPG', 'Action', 'Plate-Forme', 'Sport', \"Shoot'em Up\", 'FPS', 'Jeu de cartes', 'Course', 'Réflexion', 'Party-Game', 'Jeu de société', 'Autres', 'Gestion', 'Création', 'Compilation', 'Aventure', \"Point'n Click\", 'Stratégie', 'Infiltration', 'Survival-Horror', 'Simulation', \"Beat'em All\",'Puzzle-Game', 'MMO', 'Tir',\"Gestion God Game\"]\n",
        "  return typee    \n"
      ],
      "execution_count": null,
      "outputs": []
    },
    {
      "cell_type": "code",
      "metadata": {
        "id": "RcI-Yw7C3hfZ"
      },
      "source": [
        "#platform ------------------------------------------\n",
        "platform=listar('platform')\n",
        "#print(platform)\n",
        "#aplication_rules('platform', platform)\n",
        "\n",
        "\n",
        "#publishor/developer--------------------------------\n",
        "#publishor = publishor_Tratament('publishor/developer')\n",
        "#print(publishor)\n",
        "\n",
        "#type-----------------------------------------------\n",
        "#typee = listar('type')\n",
        "typee= typely()\n",
        "\n",
        "\n",
        "#classification-------------------------------------\n",
        "classication = classification_Tratament('classification')\n",
        "#print(classication)\n",
        "\n",
        "#release-------------------------------------------- \n",
        "#release = release_Tratament('release')\n",
        "#print(release.index('estjeu'))\n",
        "\n",
        "#website_rating-------------------------------------\n",
        "website_rating= website_rating_tratament()\n",
        "#print(website_rating)\n"
      ],
      "execution_count": null,
      "outputs": []
    },
    {
      "cell_type": "markdown",
      "metadata": {
        "id": "4agK1koMiCkK"
      },
      "source": [
        "# Atribuições\n",
        "\n"
      ]
    },
    {
      "cell_type": "markdown",
      "metadata": {
        "id": "wi-cWlNcMKdq"
      },
      "source": [
        "## Atribuição com os atributos platform e type"
      ]
    },
    {
      "cell_type": "code",
      "metadata": {
        "id": "DNJOFjbX2kMd"
      },
      "source": [
        "for i in platform: #adicionar linhas e colunas com os valores iguais a zero de platform e type\n",
        "  df1[i] = np.zeros(len(df1.platform))\n",
        "for i in typee:\n",
        "  df1[i] = np.zeros(len(df1.type))  \n",
        "#df1.head()"
      ],
      "execution_count": null,
      "outputs": []
    },
    {
      "cell_type": "code",
      "metadata": {
        "id": "tPZreJ9iWJoT"
      },
      "source": [
        "for j in range(len(platform)): #adicionar os valores de platform e type\n",
        "  for i in range(len(df1.platform)):\n",
        "    if df1.platform.iloc[i] == platform[j]:\n",
        "      df1[platform[j]][i] = 1\n",
        "    else:\n",
        "      df1[platform[j]][i] = 0\n",
        "\n",
        "for j in range(len(typee)):\n",
        "  for i in range(len(df1.type)):\n",
        "    if df1.type.iloc[i] == typee[j]:\n",
        "      df1[typee[j]][i] = 1\n",
        "    else:\n",
        "      df1[typee[j]][i] = 0\n",
        "\n",
        "#df1.head()\n"
      ],
      "execution_count": null,
      "outputs": []
    },
    {
      "cell_type": "code",
      "metadata": {
        "id": "CLoI8Xh2yO22"
      },
      "source": [
        ""
      ],
      "execution_count": null,
      "outputs": []
    },
    {
      "cell_type": "markdown",
      "metadata": {
        "id": "jSA7tR5QVIhS"
      },
      "source": [
        "## Atribuição com o atributo website_rating"
      ]
    },
    {
      "cell_type": "code",
      "metadata": {
        "id": "upHZDWDUNBdj"
      },
      "source": [
        "for i in range(len(website_rating)):\n",
        "  df1['website_rating'][i]=website_rating[i]\n",
        "\n",
        "#df1.head(100)\n"
      ],
      "execution_count": null,
      "outputs": []
    },
    {
      "cell_type": "markdown",
      "metadata": {
        "id": "BmylVNkhotLI"
      },
      "source": [
        "## Atribuição com o atributo classification"
      ]
    },
    {
      "cell_type": "code",
      "metadata": {
        "id": "JReqLPSCo1by"
      },
      "source": [
        "for i in range(len(classication)):\n",
        "  df1['classification'][i]=float(classication[i])\n",
        "\n",
        "#df1.head(100)"
      ],
      "execution_count": null,
      "outputs": []
    },
    {
      "cell_type": "markdown",
      "metadata": {
        "id": "IzZbmfT5ikPY"
      },
      "source": [
        "## Removendo colunas platform e type"
      ]
    },
    {
      "cell_type": "code",
      "metadata": {
        "id": "w1EICipUlTVR"
      },
      "source": [
        "df1=df1.drop(columns=['platform','type'])"
      ],
      "execution_count": null,
      "outputs": []
    },
    {
      "cell_type": "code",
      "metadata": {
        "id": "rSRZ7jvglUv6"
      },
      "source": [
        "df1.head()"
      ],
      "execution_count": null,
      "outputs": []
    },
    {
      "cell_type": "code",
      "metadata": {
        "id": "OnP11boXmUtL"
      },
      "source": [
        "df1.describe(include='all')"
      ],
      "execution_count": null,
      "outputs": []
    },
    {
      "cell_type": "markdown",
      "metadata": {
        "id": "PnyV5FmPvu0e"
      },
      "source": [
        "# **Analizando dados** "
      ]
    },
    {
      "cell_type": "code",
      "metadata": {
        "id": "OBhWjoJl0Yvx"
      },
      "source": [
        "#print(list(df1.columns))"
      ],
      "execution_count": null,
      "outputs": []
    },
    {
      "cell_type": "code",
      "metadata": {
        "id": "rnNgqrqp_0Ku"
      },
      "source": [
        "#atributos = df1.columns\n",
        "#for i in atributos:\n",
        "#  print(i)"
      ],
      "execution_count": null,
      "outputs": []
    },
    {
      "cell_type": "markdown",
      "metadata": {
        "id": "iwZh_FvOeeDC"
      },
      "source": [
        "## Normalização"
      ]
    },
    {
      "cell_type": "code",
      "metadata": {
        "id": "y8M7fjfzejsa"
      },
      "source": [
        "from sklearn import preprocessing\n",
        "min_max_scaler= preprocessing.MinMaxScaler()\n",
        "np_df= min_max_scaler.fit_transform(df1)\n",
        "\n",
        "df1= pd.DataFrame(np_df,columns=['website_rating', 'classification', 'PS4', 'PS2', '360', 'ONE', 'PSP', 'NGC', 'Xbox', 'GBA', 'PC', 'DS', 'Wii', 'PS3', 'WiiU', 'PS1', 'Switch', 'iOS', 'N64', 'DCAST', 'Mac', 'GB', '3DS', 'Web', 'Android', 'Vita', 'SNES', 'Nes', 'MD', 'Unknown', 'Amiga', 'ST', 'MS', 'G.GEAR', 'NGAGE', 'Saturn', 'RPG', 'Action', 'Plate-Forme', 'Sport', \"Shoot'em Up\", 'FPS', 'Jeu de cartes', 'Course', 'Réflexion', 'Party-Game', 'Jeu de société', 'Autres', 'Gestion', 'Création', 'Compilation', 'Aventure', \"Point'n Click\", 'Stratégie', 'Infiltration', 'Survival-Horror', 'Simulation', \"Beat'em All\", 'Puzzle-Game', 'MMO', 'Tir', 'Gestion God Game'])\n",
        "#df2=df1\n",
        "df1.describe()"
      ],
      "execution_count": null,
      "outputs": []
    },
    {
      "cell_type": "markdown",
      "metadata": {
        "id": "XWqyKvy759gp"
      },
      "source": [
        "## Matriz correlacional"
      ]
    },
    {
      "cell_type": "code",
      "metadata": {
        "id": "1KKkxbeiDiNX",
        "colab": {
          "base_uri": "https://localhost:8080/",
          "height": 167
        },
        "outputId": "487caa75-73e7-4d98-f018-dc11872bc6ca"
      },
      "source": [
        "print(df1.to_string(index=False))"
      ],
      "execution_count": null,
      "outputs": [
        {
          "output_type": "error",
          "ename": "NameError",
          "evalue": "ignored",
          "traceback": [
            "\u001b[0;31m---------------------------------------------------------------------------\u001b[0m",
            "\u001b[0;31mNameError\u001b[0m                                 Traceback (most recent call last)",
            "\u001b[0;32m<ipython-input-1-c7dec5ed2da0>\u001b[0m in \u001b[0;36m<module>\u001b[0;34m()\u001b[0m\n\u001b[0;32m----> 1\u001b[0;31m \u001b[0mprint\u001b[0m\u001b[0;34m(\u001b[0m\u001b[0mdf1\u001b[0m\u001b[0;34m.\u001b[0m\u001b[0mto_string\u001b[0m\u001b[0;34m(\u001b[0m\u001b[0mindex\u001b[0m\u001b[0;34m=\u001b[0m\u001b[0;32mFalse\u001b[0m\u001b[0;34m)\u001b[0m\u001b[0;34m)\u001b[0m\u001b[0;34m\u001b[0m\u001b[0;34m\u001b[0m\u001b[0m\n\u001b[0m",
            "\u001b[0;31mNameError\u001b[0m: name 'df1' is not defined"
          ]
        }
      ]
    },
    {
      "cell_type": "code",
      "metadata": {
        "id": "zmnPeQcYwHxS"
      },
      "source": [
        "df1.head(17000)"
      ],
      "execution_count": null,
      "outputs": []
    },
    {
      "cell_type": "code",
      "metadata": {
        "id": "geNy4utGvuAu"
      },
      "source": [
        "df1.describe(include='all')"
      ],
      "execution_count": null,
      "outputs": []
    },
    {
      "cell_type": "code",
      "metadata": {
        "id": "QPq9uhQSw4cX"
      },
      "source": [
        "matriz_corr= df1.corr()\n",
        "matriz_corr"
      ],
      "execution_count": null,
      "outputs": []
    },
    {
      "cell_type": "code",
      "metadata": {
        "id": "VVwyj_faxUGT"
      },
      "source": [
        "pip install biokit"
      ],
      "execution_count": null,
      "outputs": []
    },
    {
      "cell_type": "markdown",
      "metadata": {
        "id": "W7zR5tLef5lK"
      },
      "source": [
        "## Plottar"
      ]
    },
    {
      "cell_type": "code",
      "metadata": {
        "id": "4dSv1mzOxbke"
      },
      "source": [
        "from biokit.viz import corrplot\n",
        "import matplotlib.pyplot as plt\n",
        "\n",
        "corr_graf= corrplot.Corrplot(matriz_corr)\n",
        "corr_graf.plot(upper='ellipse', fontsize='x-large')\n",
        "fig=plt.gcf()\n",
        "fig.set_size_inches(62,62)\n",
        "fig.show"
      ],
      "execution_count": null,
      "outputs": []
    },
    {
      "cell_type": "markdown",
      "metadata": {
        "id": "zYs80HSftDd7"
      },
      "source": [
        "# **Dataset pronto para aplicação**"
      ]
    },
    {
      "cell_type": "code",
      "metadata": {
        "id": "O6mXLbeF-tHX"
      },
      "source": [
        "df1.head(326)"
      ],
      "execution_count": null,
      "outputs": []
    },
    {
      "cell_type": "markdown",
      "metadata": {
        "id": "rloR0V6Tqc6B"
      },
      "source": [
        "# **Aplicar k-means**"
      ]
    },
    {
      "cell_type": "code",
      "metadata": {
        "id": "SkdAoZldA2XD",
        "colab": {
          "base_uri": "https://localhost:8080/",
          "height": 132
        },
        "outputId": "e4173b75-4cde-4606-fabf-0af2c5efab1b"
      },
      "source": [
        "from sklearn.cluster import KMeans\n",
        "from sklearn.sklearn.metrics\n",
        "agrupador= KMeans(n_clusters=4)\n",
        "agrupador.fit(df1)\n"
      ],
      "execution_count": null,
      "outputs": [
        {
          "output_type": "error",
          "ename": "SyntaxError",
          "evalue": "ignored",
          "traceback": [
            "\u001b[0;36m  File \u001b[0;32m\"<ipython-input-2-d142f95d7fb9>\"\u001b[0;36m, line \u001b[0;32m2\u001b[0m\n\u001b[0;31m    from sklearn.sklearn.metrics\u001b[0m\n\u001b[0m                                ^\u001b[0m\n\u001b[0;31mSyntaxError\u001b[0m\u001b[0;31m:\u001b[0m invalid syntax\n"
          ]
        }
      ]
    },
    {
      "cell_type": "code",
      "metadata": {
        "id": "A7dVbqSXr_XM"
      },
      "source": [
        "labels=agrupador.labels_\n",
        "print(labels)\n",
        "agrupador.silhouette_score()"
      ],
      "execution_count": null,
      "outputs": []
    },
    {
      "cell_type": "code",
      "metadata": {
        "id": "cFFBZPTar_K1"
      },
      "source": [
        "fig = go.Figure()\n",
        "fig.add_trace(go.Scatter(x = df1['website_rating'], y = df1['classification'], mode='markers', marker = dict(color = agrupador.labels_.astype(np.float)),text=labels))\n",
        "fig.show()\n"
      ],
      "execution_count": null,
      "outputs": []
    },
    {
      "cell_type": "markdown",
      "metadata": {
        "id": "NH8Zc-BI7jA-"
      },
      "source": [
        "# **Aplicar SVM**"
      ]
    },
    {
      "cell_type": "code",
      "metadata": {
        "id": "BGieorbonBNu"
      },
      "source": [
        "game_en =list(df[['game_en']])\n",
        "print(game_en)\n",
        "\n"
      ],
      "execution_count": null,
      "outputs": []
    },
    {
      "cell_type": "code",
      "metadata": {
        "id": "c821qrGUiynl"
      },
      "source": [
        "import seaborn as sns\n",
        "\n",
        "df2=pd.DataFrame(data=df1,columns=['website_rating', 'classification', 'PS4', 'PS2', '360', 'ONE', 'PSP', 'NGC', 'Xbox', 'GBA', 'PC', 'DS', 'Wii', 'PS3', 'WiiU', 'PS1', 'Switch', 'iOS', 'N64',\n",
        "     'DCAST', 'Mac', 'GB', '3DS', 'RPG', 'Action', 'Plate-Forme', 'Sport', \"Shoot'em Up\", 'FPS', 'Jeu de cartes', 'Course', 'Réflexion', 'Party-Game', 'Jeu de société',\n",
        "     'Autres', 'Gestion', 'Création', 'Compilation', 'Aventure', \"Point'n Click\", 'Stratégie', 'Infiltration', 'Survival-Horror', 'Simulation', \"Beat'em All\", 'Puzzle-Game', \n",
        "     'MMO', 'Tir', 'Gestion God Game'])\n",
        "\n"
      ],
      "execution_count": null,
      "outputs": []
    },
    {
      "cell_type": "code",
      "metadata": {
        "id": "CiANunnOkG6j"
      },
      "source": [
        "for i in df2: #adicionar linhas e colunas com os valores iguais a zero de platform e type\n",
        "  df2['label'] = np.zeros(len(df2))\n",
        "  df2['game_en']=np.zeros(len(df2))\n",
        "df2['label']=labels\n",
        "df2['game_en']=pd.Categorical.from_codes(labels, ['g1','g2','g3','g4'])"
      ],
      "execution_count": null,
      "outputs": []
    },
    {
      "cell_type": "code",
      "metadata": {
        "id": "vpQPqLL4kIED"
      },
      "source": [
        "sns.pairplot(df2[['website_rating', 'classification', 'PS4', 'PS2', '360', 'ONE', 'PSP', 'NGC', 'Xbox', 'GBA', 'PC', 'DS', 'Wii', 'PS3', 'WiiU', 'PS1', 'Switch', 'iOS', 'N64',\n",
        "     'DCAST', 'Mac', 'GB', '3DS', 'RPG', 'Action', 'Plate-Forme', 'Sport', \"Shoot'em Up\", 'FPS', 'Jeu de cartes', 'Course', 'Réflexion', 'Party-Game', 'Jeu de société',\n",
        "     'Autres', 'Gestion', 'Création', 'Compilation', 'Aventure', \"Point'n Click\", 'Stratégie', 'Infiltration', 'Survival-Horror', 'Simulation', \"Beat'em All\", 'Puzzle-Game', \n",
        "     'MMO', 'Tir', 'Gestion God Game']], hue = 'game_en')"
      ],
      "execution_count": null,
      "outputs": []
    },
    {
      "cell_type": "code",
      "metadata": {
        "id": "vnZyS02LkH8z"
      },
      "source": [
        ""
      ],
      "execution_count": null,
      "outputs": []
    },
    {
      "cell_type": "code",
      "metadata": {
        "id": "s4RIJ7lekHxr"
      },
      "source": [
        ""
      ],
      "execution_count": null,
      "outputs": []
    },
    {
      "cell_type": "code",
      "metadata": {
        "id": "4i48erAm7iEO"
      },
      "source": [
        "#clf=svm.SVC(gamma=0.001,C=100)\n",
        "X= df1\n",
        "y = ['website_rating', 'classification', 'PS4', 'PS2', '360', 'ONE', 'PSP', 'NGC', 'Xbox', 'GBA', 'PC', 'DS', 'Wii', 'PS3', 'WiiU', 'PS1', 'Switch', 'iOS', 'N64',\n",
        "     'DCAST', 'Mac', 'GB', '3DS', 'RPG', 'Action', 'Plate-Forme', 'Sport', \"Shoot'em Up\", 'FPS', 'Jeu de cartes', 'Course', 'Réflexion', 'Party-Game', 'Jeu de société',\n",
        "     'Autres', 'Gestion', 'Création', 'Compilation', 'Aventure', \"Point'n Click\", 'Stratégie', 'Infiltration', 'Survival-Horror', 'Simulation', \"Beat'em All\", 'Puzzle-Game', \n",
        "     'MMO', 'Tir', 'Gestion God Game']\n",
        "\n",
        "clf = svm.SVC(kernel='linear', C = 1.0)\n",
        "clf.fit(X,y)\n"
      ],
      "execution_count": null,
      "outputs": []
    },
    {
      "cell_type": "markdown",
      "metadata": {
        "id": "ZyAhaH6L-AO5"
      },
      "source": [
        "# **Testes para Codar**"
      ]
    },
    {
      "cell_type": "code",
      "metadata": {
        "id": "-2HCpqfK_hyr"
      },
      "source": [
        "print(type(df1.iloc[0][0]))\n",
        "print(df1['platform'][0])"
      ],
      "execution_count": null,
      "outputs": []
    },
    {
      "cell_type": "code",
      "metadata": {
        "id": "GBU2Dcuzlyai"
      },
      "source": [
        "##teste individual\n",
        "\n",
        "#lista={'PS4': 0, 'PS2': 1, '360': 2, 'ONE': 3, 'PSP': 4, 'NGC': 5, 'Xbox': 6, 'GBA': 7, 'PC': 8, 'DS': 9, 'Wii': 10, 'PS3': 11, 'WiiU': 12, 'PS1': 13, 'Switch': 14, 'iOS': 15, 'N64': 16, 'DCAST': 17, 'Mac': 18, 'GB': 19, '3DS': 20, 'Web': 21, 'Android': 22, 'Vita': 23, 'SNES': 24, 'Nes': 25, 'MD': 26, 'Unknown': 27, 'Amiga': 28, 'ST': 29, 'MS': 30, 'G.GEAR': 31, 'NGAGE': 32, 'Saturn': 33}\n",
        "lista=['PS4', 'PS2', '360', 'ONE', 'PSP', 'NGC', 'Xbox', 'GBA', 'PC', 'DS', 'Wii', 'PS3', 'WiiU', 'PS1', 'Switch', 'iOS', 'N64', 'DCAST', 'Mac', 'GB', '3DS', 'Web', 'Android', 'Vita', 'SNES', 'Nes', 'MD', 'Unknown', 'Amiga', 'ST', 'MS', 'G.GEAR', 'NGAGE', 'Saturn']\n",
        "\n",
        "df1= list(df)\n",
        "dff=['PS4', 'PS2', '360', 'ONE', 'PSP', 'NGC', 'Xbox', 'GBA', 'PC', 'DS', 'Wii', 'PS3', 'WiiU', 'PS1', 'Switch', 'iOS', 'N64', 'DCAST', 'Mac', 'GB', '3DS', 'Web', 'Android', 'Vita', 'SNES', 'Nes', 'MD', 'Unknown', 'Amiga', 'ST', 'MS', 'G.GEAR', 'NGAGE', 'Saturn']\n",
        "\n",
        "for item in df2['platform']:   \n",
        "    if ' ' in item:  \n",
        "      item=item.split(' ')#separando por caractere de espaço\n",
        "\n",
        "      for index in item:  \n",
        "        if index not in resp:\n",
        "          resp.append(index)\n",
        "          \n",
        "      \n",
        "    else:\n",
        "      if item not in resp:\n",
        "       resp.append(item)\n",
        "  \n",
        "  df2 = lista[item]\n",
        "\n",
        "#print(df2)\n"
      ],
      "execution_count": null,
      "outputs": []
    },
    {
      "cell_type": "code",
      "metadata": {
        "id": "A7wdttov-Nj9"
      },
      "source": [
        "import pandas as pd\n",
        "data = [\n",
        "    ['Ali',\n",
        "     'Azmat',\n",
        "     '30'],\n",
        "    ['Sharukh',\n",
        "     'Khan',\n",
        "     '40'],\n",
        "    ['Linus',\n",
        "     'Torvalds',\n",
        "     '70']\n",
        "]\n",
        "df = pd.DataFrame(data,columns=['First','Last','Age']) \n",
        "df.insert(3,\"city\",['Lahore','Dehli','New York'],True)\n",
        "print(df)"
      ],
      "execution_count": null,
      "outputs": []
    },
    {
      "cell_type": "code",
      "metadata": {
        "id": "juvi-kNdQbDy"
      },
      "source": [
        "ints = [8, 23, 45, 12, 78]\n",
        "for idx, val in enumerate(ints):\n",
        "    print(idx, val)"
      ],
      "execution_count": null,
      "outputs": []
    },
    {
      "cell_type": "code",
      "metadata": {
        "id": "Pxci-3jIGXY9"
      },
      "source": [
        "x = [1, 5, 1.5, 8, 1, 9]\n",
        "y = [2, 8, 1.8, 8, 0.6, 11]\n",
        "plt.scatter(x,y)\n",
        "plt.show()"
      ],
      "execution_count": null,
      "outputs": []
    },
    {
      "cell_type": "code",
      "metadata": {
        "id": "NMwUfppKGGSu"
      },
      "source": [
        "X = np.array([[1,2],[5,8],[1.5,1.8],[8,8],[1,0.6],[9,11]])\n",
        "y = [0,1,0,1,0,1] #meus labels, usaremos 0 e 1\n",
        "clf = svm.SVC(kernel='linear', C = 1.0)\n",
        "clf.fit(X,y)\n",
        "\n",
        "print(clf.predict([0.58,0.76]))\n",
        "\n",
        "print(clf.predict([10.58,10.76]))\n"
      ],
      "execution_count": null,
      "outputs": []
    },
    {
      "cell_type": "code",
      "metadata": {
        "id": "T519eJXnGG8O"
      },
      "source": [
        "w = clf.coef_[0]\n",
        "print(w)\n",
        "a = -w[0] / w[1]\n",
        "xx = np.linspace(0,12)\n",
        "yy = a * xx - clf.intercept_[0] / w[1]\n",
        "h0 = plt.plot(xx, yy, 'k-',\n",
        " label=\"non weighted div\")\n",
        "plt.scatter(X[:, 0], X[:, 1], c = y)\n",
        "plt.legend()\n",
        "plt.show()"
      ],
      "execution_count": null,
      "outputs": []
    },
    {
      "cell_type": "code",
      "metadata": {
        "id": "rZ_giSukG1ch"
      },
      "source": [
        "from sklearn import datasets\n",
        "import pandas as pd\n",
        "import seaborn as sns\n",
        "\n",
        "iris = datasets.load_iris()\n",
        "iris_df = pd.DataFrame(data=iris.data, columns=iris.feature_names)\n",
        "iris_df['label'] = iris.target\n",
        "iris_df['species'] = pd.Categorical.from_codes(iris.target, iris.target_names)\n",
        "\n",
        "\n",
        "print(iris.target_names)"
      ],
      "execution_count": null,
      "outputs": []
    },
    {
      "cell_type": "code",
      "metadata": {
        "id": "11PxJNUcsrzI"
      },
      "source": [
        ""
      ],
      "execution_count": null,
      "outputs": []
    }
  ]
}